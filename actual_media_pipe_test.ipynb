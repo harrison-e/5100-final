{
 "cells": [
  {
   "cell_type": "code",
   "execution_count": 7,
   "id": "c5578e6d",
   "metadata": {},
   "outputs": [],
   "source": [
    "import cv2\n",
    "import numpy as np\n",
    "import mediapipe as mp\n",
    "from mediapipe.tasks import python\n",
    "from mediapipe.tasks.python import vision\n",
    "from mediapipe.framework.formats import landmark_pb2"
   ]
  },
  {
   "cell_type": "code",
   "execution_count": 268,
   "id": "444da916",
   "metadata": {},
   "outputs": [],
   "source": [
    "model_path = \"C:\\\\Users\\\\kyles\\\\Desktop\\\\CS5100\\\\Final_Project\\\\pose_landmarker_full.task\"\n",
    "video_source = \"C:\\\\Users\\\\kyles\\\\Desktop\\\\CS5100\\\\Final_Project\\\\Project_Data\\\\PEN26.mp4\"\n",
    "min_pose_detection_confidence = 0.5\n",
    "min_pose_presence_confidence = 0.5\n",
    "min_tracking_confidence = 0.5\n",
    "num_poses = 2\n",
    "last_timestamp_ms = 0"
   ]
  },
  {
   "cell_type": "code",
   "execution_count": 269,
   "id": "1cc05695",
   "metadata": {},
   "outputs": [],
   "source": [
    "def draw_landmarks_on_image(rgb_image, detection_result):\n",
    "    pose_landmarks_list = detection_result.pose_landmarks\n",
    "    annotated_image = np.copy(rgb_image)\n",
    "\n",
    "    # Loop through the detected poses to visualize.\n",
    "    for idx in range(len(pose_landmarks_list)):\n",
    "        pose_landmarks = pose_landmarks_list[idx]\n",
    "\n",
    "        pose_landmarks_proto = landmark_pb2.NormalizedLandmarkList()\n",
    "        pose_landmarks_proto.landmark.extend([\n",
    "            landmark_pb2.NormalizedLandmark(\n",
    "                x=landmark.x,\n",
    "                y=landmark.y,\n",
    "                z=landmark.z) for landmark in pose_landmarks\n",
    "        ])\n",
    "        mp.solutions.drawing_utils.draw_landmarks(\n",
    "            annotated_image,\n",
    "            pose_landmarks_proto,\n",
    "            mp.solutions.pose.POSE_CONNECTIONS,\n",
    "            mp.solutions.drawing_styles.get_default_pose_landmarks_style())\n",
    "    return annotated_image"
   ]
  },
  {
   "cell_type": "code",
   "execution_count": 270,
   "id": "feb39ea4",
   "metadata": {},
   "outputs": [],
   "source": [
    "base_options = python.BaseOptions(model_asset_path=model_path)\n",
    "options = vision.PoseLandmarkerOptions(base_options=base_options,\n",
    "                                      running_mode=vision.RunningMode.VIDEO,\n",
    "                                      num_poses=num_poses,\n",
    "                                      min_pose_detection_confidence=min_pose_detection_confidence,\n",
    "                                      min_pose_presence_confidence=min_pose_presence_confidence,\n",
    "                                      min_tracking_confidence=min_tracking_confidence,\n",
    "                                      output_segmentation_masks=False)"
   ]
  },
  {
   "cell_type": "code",
   "execution_count": null,
   "id": "9b265d5e",
   "metadata": {},
   "outputs": [],
   "source": [
    "'''\n",
    "\n",
    "1) Resize and convert frame from RGB to BGR\n",
    "2) Detect poses\n",
    "    - z represents distance -- we want closer (penalty taker) pose\n",
    "    - append relevant data to lists for feature extraction\n",
    "3) Display image with pose draw onto it\n",
    "\n",
    "'''"
   ]
  },
  {
   "cell_type": "code",
   "execution_count": 271,
   "id": "ad8c37db",
   "metadata": {},
   "outputs": [],
   "source": [
    "pose_data = []\n",
    "mp_data = []\n",
    "pose_draw_data = []\n",
    "time_stamps = []\n",
    "\n",
    "\n",
    "with vision.PoseLandmarker.create_from_options(options) as landmarker:\n",
    "    # Use OpenCV’s VideoCapture to start capturing from the webcam.\n",
    "    cap = cv2.VideoCapture(video_source)\n",
    "    # Create a loop to read the latest frame from the camera using VideoCapture#read()\n",
    "    while cap.isOpened():\n",
    "        success, image = cap.read()\n",
    "        if not success:\n",
    "            \n",
    "            break\n",
    "            \n",
    "            \n",
    "        image = cv2.resize(image, None, fx=.5, fy=.5)\n",
    "        image = image[100:500, 250:500]\n",
    "        # Convert the frame received from OpenCV to a MediaPipe’s Image object.\n",
    "        mp_image = mp.Image(\n",
    "            image_format=mp.ImageFormat.SRGB,\n",
    "            data=cv2.cvtColor(image, cv2.COLOR_BGR2RGB))\n",
    "        timestamp_ms = int(cv2.getTickCount() / cv2.getTickFrequency() * 1000)\n",
    "        result = landmarker.detect_for_video(mp_image, timestamp_ms)\n",
    "        pose_data.append(result.pose_world_landmarks)\n",
    "        annotated_image = draw_landmarks_on_image(mp_image.numpy_view(), result)\n",
    "        \n",
    "        if result.pose_world_landmarks:\n",
    "            if result.pose_world_landmarks[0][0].z > -.3 or result.pose_world_landmarks[0][1].z > -.3:\n",
    "                # get frame_ms -- append to list\n",
    "                frame_ms = cap.get(cv2.CAP_PROP_POS_MSEC)\n",
    "                time_stamps.append(frame_ms)\n",
    "                # draw frames\n",
    "                pose_draw_data.append(result)\n",
    "                mp_data.append(mp_image)\n",
    "                \n",
    "            \n",
    "        \n",
    "        cv2.imshow(\"MediaPipe Pose Landmark\", cv2.cvtColor(annotated_image, cv2.COLOR_BGR2RGB))\n",
    "\n",
    "        if cv2.waitKey(1) & 0xFF == ord('q'):\n",
    "            break\n",
    "    \n",
    "    cap.release()\n",
    "    cv2.destroyAllWindows()"
   ]
  },
  {
   "cell_type": "code",
   "execution_count": 279,
   "id": "f5a54e51",
   "metadata": {},
   "outputs": [
    {
     "name": "stdout",
     "output_type": "stream",
     "text": [
      "<class 'mediapipe.tasks.python.vision.pose_landmarker.PoseLandmarkerResult'>\n"
     ]
    },
    {
     "data": {
      "text/plain": [
       "82"
      ]
     },
     "execution_count": 279,
     "metadata": {},
     "output_type": "execute_result"
    }
   ],
   "source": [
    "lower_half_data = []\n",
    "print(type(pose_draw_data[0]))\n",
    "pose_draw_data[0].pose_landmarks[0][23::]\n",
    "\n",
    "for i in range(len(pose_draw_data)):\n",
    "    for each in pose_draw_data[i].pose_landmarks:\n",
    "        lower_half_data.append(each[23::])\n",
    "\n",
    "len(lower_half_data)\n"
   ]
  },
  {
   "cell_type": "code",
   "execution_count": 285,
   "id": "594658f1",
   "metadata": {},
   "outputs": [
    {
     "name": "stdout",
     "output_type": "stream",
     "text": [
      "1\n",
      "2\n",
      "3\n",
      "4\n",
      "5\n",
      "7\n",
      "9\n",
      "11\n",
      "13\n",
      "15\n",
      "17\n",
      "19\n",
      "21\n",
      "23\n",
      "25\n",
      "27\n",
      "29\n",
      "31\n",
      "33\n",
      "35\n",
      "36\n",
      "38\n",
      "40\n",
      "42\n",
      "44\n",
      "46\n",
      "48\n",
      "49\n",
      "51\n",
      "52\n",
      "53\n",
      "54\n",
      "55\n",
      "56\n",
      "57\n",
      "58\n",
      "59\n",
      "60\n",
      "61\n",
      "62\n",
      "63\n",
      "64\n",
      "65\n",
      "66\n",
      "67\n",
      "68\n",
      "69\n",
      "70\n",
      "71\n",
      "72\n",
      "73\n",
      "74\n",
      "75\n",
      "76\n",
      "77\n",
      "78\n",
      "80\n",
      "82\n"
     ]
    },
    {
     "data": {
      "text/plain": [
       "82"
      ]
     },
     "execution_count": 285,
     "metadata": {},
     "output_type": "execute_result"
    }
   ],
   "source": [
    "num = 0\n",
    "\n",
    "for i in range(len(pose_draw_data)):\n",
    "    num += len(pose_draw_data[i].pose_landmarks)\n",
    "    print(num)\n",
    "    \n",
    "num"
   ]
  },
  {
   "cell_type": "code",
   "execution_count": 283,
   "id": "7d6dbfc0",
   "metadata": {},
   "outputs": [],
   "source": [
    "for i in range(len(pose_draw_data)):\n",
    "\n",
    "    test_output = draw_landmarks_on_image(mp_data[i].numpy_view(), pose_draw_data[i])\n",
    "    while True:\n",
    "        cv2.imshow('result', test_output)\n",
    "        if cv2.waitKey(1) & 0xFF == ord('q'):\n",
    "                break\n",
    "cv2.destroyAllWindows()\n"
   ]
  },
  {
   "cell_type": "code",
   "execution_count": 201,
   "id": "4371020c",
   "metadata": {},
   "outputs": [
    {
     "ename": "IndexError",
     "evalue": "list index out of range",
     "output_type": "error",
     "traceback": [
      "\u001b[1;31m---------------------------------------------------------------------------\u001b[0m",
      "\u001b[1;31mIndexError\u001b[0m                                Traceback (most recent call last)",
      "Cell \u001b[1;32mIn[201], line 1\u001b[0m\n\u001b[1;32m----> 1\u001b[0m pose_draw_data[\u001b[38;5;241m0\u001b[39m]\u001b[38;5;241m.\u001b[39mpose_landmarks[\u001b[38;5;241m1\u001b[39m]\n",
      "\u001b[1;31mIndexError\u001b[0m: list index out of range"
     ]
    }
   ],
   "source": [
    "pose_draw_data[0].pose_landmarks[1]"
   ]
  },
  {
   "cell_type": "code",
   "execution_count": null,
   "id": "1f0c0f0f",
   "metadata": {},
   "outputs": [],
   "source": []
  }
 ],
 "metadata": {
  "kernelspec": {
   "display_name": "Python 3 (ipykernel)",
   "language": "python",
   "name": "python3"
  },
  "language_info": {
   "codemirror_mode": {
    "name": "ipython",
    "version": 3
   },
   "file_extension": ".py",
   "mimetype": "text/x-python",
   "name": "python",
   "nbconvert_exporter": "python",
   "pygments_lexer": "ipython3",
   "version": "3.11.5"
  }
 },
 "nbformat": 4,
 "nbformat_minor": 5
}
