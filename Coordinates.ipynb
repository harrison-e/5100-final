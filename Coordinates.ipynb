{
 "cells": [
  {
   "cell_type": "code",
   "execution_count": 1,
   "id": "31d4b380",
   "metadata": {},
   "outputs": [],
   "source": [
    "import cv2\n",
    "import numpy as np"
   ]
  },
  {
   "cell_type": "code",
   "execution_count": 2,
   "id": "40425bce",
   "metadata": {},
   "outputs": [],
   "source": [
    "# get video path"
   ]
  },
  {
   "cell_type": "code",
   "execution_count": 3,
   "id": "5355a080",
   "metadata": {},
   "outputs": [
    {
     "data": {
      "text/plain": [
       "'C:\\\\Users\\\\kyles\\\\Desktop\\\\CS5100\\\\Final_Project\\\\5100-final\\\\penalty_videos\\\\PEN23.mp4'"
      ]
     },
     "execution_count": 3,
     "metadata": {},
     "output_type": "execute_result"
    }
   ],
   "source": [
    "vid_path = r'C:\\Users\\kyles\\Desktop\\CS5100\\Final_Project\\5100-final\\penalty_videos\\PEN23.mp4'\n",
    "vid_path"
   ]
  },
  {
   "cell_type": "code",
   "execution_count": 4,
   "id": "14659c68",
   "metadata": {},
   "outputs": [],
   "source": [
    "# Get video frames -- might need to commit to a certain frame size (penalties 23-42 are 1080 x 1920) rather than scaling"
   ]
  },
  {
   "cell_type": "code",
   "execution_count": 5,
   "id": "46aa5aa2",
   "metadata": {},
   "outputs": [],
   "source": [
    "frames = []\n",
    "cap = cv2.VideoCapture(vid_path)\n",
    "    # Create a loop to read the latest frame from the camera using VideoCapture#read()\n",
    "while cap.isOpened():\n",
    "    success, image = cap.read()\n",
    "    \n",
    "    if not success:\n",
    "        break\n",
    "        \n",
    "    resized = cv2.resize(image, (0,0), fx=.7, fy=.7)\n",
    "    frames.append(resized)\n",
    "\n",
    "    if cv2.waitKey(10) & 0xFF == ord('q'):\n",
    "        break\n",
    "    \n",
    "cap.release()\n",
    "cv2.destroyAllWindows()"
   ]
  },
  {
   "cell_type": "code",
   "execution_count": 6,
   "id": "1a5cfe34",
   "metadata": {},
   "outputs": [],
   "source": [
    "# Get goal frame -- press or hold any key except 'w' to cycle thru frames. when frame is found, press 'w'"
   ]
  },
  {
   "cell_type": "code",
   "execution_count": 7,
   "id": "1a1f58a1",
   "metadata": {},
   "outputs": [],
   "source": [
    "for each in frames:\n",
    "    \n",
    "    cv2.imshow('frame', each)\n",
    "    \n",
    "    if cv2.waitKey(0) & 0xFF == ord('w'):\n",
    "        goal_frame = each\n",
    "        break\n",
    "    else:\n",
    "        continue\n",
    "        \n",
    "cv2.destroyAllWindows()\n",
    "    "
   ]
  },
  {
   "cell_type": "code",
   "execution_count": 8,
   "id": "fbe7b352",
   "metadata": {},
   "outputs": [],
   "source": [
    "# Show goal frame -- quit with 'q'"
   ]
  },
  {
   "cell_type": "code",
   "execution_count": 9,
   "id": "21f05328",
   "metadata": {},
   "outputs": [],
   "source": [
    "while True:\n",
    "    cv2.imshow('goal frame', goal_frame)\n",
    "    \n",
    "    if cv2.waitKey(0) & 0xFF == ord('q'):\n",
    "        break\n",
    "        \n",
    "cv2.destroyAllWindows()"
   ]
  },
  {
   "cell_type": "code",
   "execution_count": 10,
   "id": "04c133e5",
   "metadata": {},
   "outputs": [],
   "source": [
    "# Click on ball to get coordinates"
   ]
  },
  {
   "cell_type": "code",
   "execution_count": 12,
   "id": "92c3db0b",
   "metadata": {},
   "outputs": [
    {
     "name": "stdout",
     "output_type": "stream",
     "text": [
      "1202   481\n",
      "218   468\n",
      "695   193\n",
      "681   519\n"
     ]
    }
   ],
   "source": [
    "def click_event(event, x, y, flags, params): \n",
    "  \n",
    "    # checking for left mouse clicks \n",
    "    if event == cv2.EVENT_LBUTTONDOWN: \n",
    "  \n",
    "        # displaying the coordinates \n",
    "        # on the Shell \n",
    "        print(x, ' ', y) \n",
    "  \n",
    "        # displaying the coordinates \n",
    "        # on the image window \n",
    "        font = cv2.FONT_HERSHEY_SIMPLEX \n",
    "        cv2.putText(goal_frame, str(x) + ',' +\n",
    "                    str(y), (x,y), font, \n",
    "                    1, (255, 0, 0), 2) \n",
    "        cv2.imshow('image', goal_frame) \n",
    "  \n",
    "    # checking for right mouse clicks      \n",
    "    if event==cv2.EVENT_RBUTTONDOWN: \n",
    "  \n",
    "        # displaying the coordinates \n",
    "        # on the Shell \n",
    "        print(x, ' ', y) \n",
    "  \n",
    "        # displaying the coordinates \n",
    "        # on the image window \n",
    "        font = cv2.FONT_HERSHEY_SIMPLEX \n",
    "        b = img[y, x, 0] \n",
    "        g = img[y, x, 1] \n",
    "        r = img[y, x, 2] \n",
    "        cv2.putText(goal_frame, str(b) + ',' +\n",
    "                    str(g) + ',' + str(r), \n",
    "                    (x,y), font, 1, \n",
    "                    (255, 255, 0), 2) \n",
    "        cv2.imshow('image', goal_frame) \n",
    "  \n",
    "# driver function \n",
    "if __name__==\"__main__\": \n",
    "    # displaying the image \n",
    "    cv2.imshow('image', goal_frame) \n",
    "  \n",
    "    # setting mouse handler for the image \n",
    "    # and calling the click_event() function \n",
    "    cv2.setMouseCallback('image', click_event) \n",
    "  \n",
    "    # wait for a key to be pressed to exit \n",
    "    cv2.waitKey(0) \n",
    "  \n",
    "    # close the window \n",
    "    cv2.destroyAllWindows() "
   ]
  },
  {
   "cell_type": "code",
   "execution_count": null,
   "id": "d027e66a",
   "metadata": {},
   "outputs": [],
   "source": []
  },
  {
   "cell_type": "code",
   "execution_count": null,
   "id": "95138cbe",
   "metadata": {},
   "outputs": [],
   "source": []
  }
 ],
 "metadata": {
  "kernelspec": {
   "display_name": "Python 3 (ipykernel)",
   "language": "python",
   "name": "python3"
  },
  "language_info": {
   "codemirror_mode": {
    "name": "ipython",
    "version": 3
   },
   "file_extension": ".py",
   "mimetype": "text/x-python",
   "name": "python",
   "nbconvert_exporter": "python",
   "pygments_lexer": "ipython3",
   "version": "3.11.5"
  }
 },
 "nbformat": 4,
 "nbformat_minor": 5
}
