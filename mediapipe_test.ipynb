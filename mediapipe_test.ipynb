{
 "cells": [
  {
   "cell_type": "code",
   "execution_count": null,
   "id": "8bd9f01a",
   "metadata": {},
   "outputs": [],
   "source": [
    "pip install mediapipe"
   ]
  },
  {
   "cell_type": "code",
   "execution_count": 1,
   "id": "4133c513",
   "metadata": {},
   "outputs": [
    {
     "name": "stdout",
     "output_type": "stream",
     "text": [
      "WARNING:tensorflow:From C:\\Users\\kyles\\anaconda3\\Lib\\site-packages\\keras\\src\\losses.py:2976: The name tf.losses.sparse_softmax_cross_entropy is deprecated. Please use tf.compat.v1.losses.sparse_softmax_cross_entropy instead.\n",
      "\n"
     ]
    }
   ],
   "source": [
    "import cv2\n",
    "import mediapipe as mp\n",
    "import numpy as np\n",
    "mp_drawing = mp.solutions.drawing_utils\n",
    "mp_pose = mp.solutions.pose\n",
    "ankle_vals = []"
   ]
  },
  {
   "cell_type": "code",
   "execution_count": 2,
   "id": "c94e107e",
   "metadata": {},
   "outputs": [],
   "source": [
    "cap = cv2.VideoCapture('MIANASH-PEN24.MP4')\n",
    "\n",
    "with mp_pose.Pose(static_image_mode=False, min_detection_confidence=.4, min_tracking_confidence=.4) as pose:\n",
    "    while cap.isOpened():\n",
    "        ret, frame = cap.read()\n",
    "        \n",
    "        if not ret:\n",
    "            break\n",
    "\n",
    "\n",
    "        # resize and detect\n",
    "        image = cv2.resize(frame, None, fx=.5, fy=.5)\n",
    "        #image = image[100:500, 300:600]\n",
    "        image = cv2.cvtColor(image, cv2.COLOR_BGR2RGB)\n",
    "        image.flags.writeable = False\n",
    "        \n",
    "        results = pose.process(image) # array\n",
    "        image.flags.writeable = True\n",
    "        image = cv2.cvtColor(image, cv2.COLOR_RGB2BGR)\n",
    "        \n",
    "        # get landmark data\n",
    "        try:\n",
    "            landmarks = results.pose_landmarks.landmark\n",
    "            ankle_vals.append(landmarks[mp_pose.PoseLandmark.RIGHT_ANKLE.value])\n",
    "        except:\n",
    "            pass\n",
    "\n",
    "       \n",
    "\n",
    "        mp_drawing.draw_landmarks(image, results.pose_landmarks, mp_pose.POSE_CONNECTIONS)\n",
    "\n",
    "\n",
    "\n",
    "        cv2.imshow('Mediapipe Feed', image)\n",
    "\n",
    "        if cv2.waitKey(25) & 0xFF == ord('q'):\n",
    "            break\n",
    "\n",
    "cap.release()\n",
    "cv2.destroyAllWindows()"
   ]
  },
  {
   "cell_type": "code",
   "execution_count": 9,
   "id": "ad7d9e7a",
   "metadata": {},
   "outputs": [
    {
     "data": {
      "text/plain": [
       "x: 2.1529684\n",
       "y: 1.9413164\n",
       "z: 1.5340728\n",
       "visibility: 0.6260443"
      ]
     },
     "execution_count": 9,
     "metadata": {},
     "output_type": "execute_result"
    }
   ],
   "source": [
    "landmarks[mp_pose.PoseLandmark.RIGHT_ANKLE.value]"
   ]
  },
  {
   "cell_type": "code",
   "execution_count": null,
   "id": "05a3c060",
   "metadata": {},
   "outputs": [],
   "source": [
    "ankle_vals"
   ]
  },
  {
   "cell_type": "code",
   "execution_count": null,
   "id": "5d5cfa70",
   "metadata": {},
   "outputs": [],
   "source": []
  }
 ],
 "metadata": {
  "kernelspec": {
   "display_name": "Python 3 (ipykernel)",
   "language": "python",
   "name": "python3"
  },
  "language_info": {
   "codemirror_mode": {
    "name": "ipython",
    "version": 3
   },
   "file_extension": ".py",
   "mimetype": "text/x-python",
   "name": "python",
   "nbconvert_exporter": "python",
   "pygments_lexer": "ipython3",
   "version": "3.11.5"
  }
 },
 "nbformat": 4,
 "nbformat_minor": 5
}
